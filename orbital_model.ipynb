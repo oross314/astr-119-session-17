{
 "cells": [
  {
   "cell_type": "code",
   "execution_count": 10,
   "metadata": {},
   "outputs": [],
   "source": [
    "%matplotlib inline\n",
    "import numpy as np\n",
    "import matplotlib.pyplot as plt"
   ]
  },
  {
   "cell_type": "code",
   "execution_count": 3,
   "metadata": {},
   "outputs": [],
   "source": [
    "class planet():\n",
    "    \"a planet in our solar system\"\n",
    "    def __init__(self, semimajor, eccentricity):\n",
    "        self.x=np.zeros(2) #x and y position\n",
    "        self.v=np.zeros(2) #x and y velocity\n",
    "        self.a_g=np.zeros(2) #x and y accelaration\n",
    "        self.t=0.0 #current time\n",
    "        self.dt=0.0 #current timestep\n",
    "        self.a=semimajor #semimajor axis of the orbit\n",
    "        self.e=eccentricity #eccentricity integer timestep1\n",
    "        self.istep=0 #current integer timestep1\n",
    "        self.name=\"\" #name for the planet"
   ]
  },
  {
   "cell_type": "markdown",
   "metadata": {},
   "source": [
    "## Define a dictionary with some constants"
   ]
  },
  {
   "cell_type": "code",
   "execution_count": 5,
   "metadata": {},
   "outputs": [],
   "source": [
    "solar_system={\"M_sun\":1.0, \"G\":39.4784176043574320}"
   ]
  },
  {
   "cell_type": "markdown",
   "metadata": {},
   "source": [
    "## Define some functions for setting circular velocity and acceleration"
   ]
  },
  {
   "cell_type": "code",
   "execution_count": 12,
   "metadata": {},
   "outputs": [],
   "source": [
    "def SolarCircularVelocity(p):\n",
    "    G= solar_system[\"G\"]\n",
    "    M=solar_system[\"M_sun\"]\n",
    "    r=(p.x[0]**2+p.x[1]**2)**.5\n",
    "    \n",
    "    #return the circulat velocity\n",
    "    return (G*M/r)**.5"
   ]
  },
  {
   "cell_type": "code",
   "execution_count": 13,
   "metadata": {},
   "outputs": [],
   "source": [
    "def SolarGravitationalAcceleration(p):\n",
    "    \n",
    "    G=solar_system[\"G\"]\n",
    "    M=solar_system[\"M_sun\"]\n",
    "    r=(p.x[0]**2+p.x[1]**2)**.5\n",
    "    \n",
    "    #accelaration in AU/yr/yr\n",
    "    a_grav=-1.0*G*M/r**2\n",
    "    \n",
    "    #find the angle at this position\n",
    "    if(p.x[0]==0.0):\n",
    "        if(p.x[1]>0.0):\n",
    "            theta=.5*np.pi\n",
    "        else:\n",
    "            theta=1.5*np.pi\n",
    "    else:theta=np.arctan2(p.x[1],p.x[0])\n",
    "        \n",
    "    #set the x and y components of the velocity\n",
    "    #p.a_g[0]=a_grav*np.cos(theta)\n",
    "    #p.a_g[1]=a_Grav*np.sin(theta)\n",
    "    return a_grav*np.cos(theta), a_grav*np.sin(theta)\n"
   ]
  },
  {
   "cell_type": "markdown",
   "metadata": {},
   "source": [
    "## Compute timestep"
   ]
  },
  {
   "cell_type": "code",
   "execution_count": 7,
   "metadata": {},
   "outputs": [],
   "source": [
    "def calc_dt(p):\n",
    "    #integration tolerance\n",
    "    ETA_TIME_STEP=.0004\n",
    "    \n",
    "    #compute the timestep\n",
    "    eta=ETA_TIME_STEP\n",
    "    v= (p.v[0]**2+p.v[1]**2)**.5\n",
    "    a=(p.a_g[0]**2+p.a_g[1]**2)**.5\n",
    "    dt=eta*np.fmin(1.0/np.fabs(v),1.0/np.fabs(a)**.5)\n",
    "    \n",
    "    return dt"
   ]
  },
  {
   "cell_type": "code",
   "execution_count": 28,
   "metadata": {},
   "outputs": [],
   "source": [
    "def SetPlanet(p,i):\n",
    "    AU_in_km=1.495979e+8\n",
    "    #circular velocity\n",
    "    v_c=0.0     #circular velocity in AU/yr\n",
    "    v_e=0.0     #velocity at perihelion in AU/yr\n",
    "    \n",
    "    #planet by planet initial conditions\n",
    "    \n",
    "    #Mercury\n",
    "    if(i==0):\n",
    "        #semi major axis in AU\n",
    "        p.a=57909227.0/AU_in_km\n",
    "        \n",
    "        #eccentricity\n",
    "        p.e=.20563593\n",
    "        \n",
    "        #name\n",
    "        p.name=\"Mercury\"\n",
    "    #venus\n",
    "    elif(i==1):\n",
    "        #semi-major axis in AU\n",
    "        p.a=108209475.0/AU_in_km\n",
    "        \n",
    "        #eccentricity\n",
    "        p.e=.00677672\n",
    "        p.name=\"Venus\"\n",
    "    elif(i==2):\n",
    "        p.a=1.0\n",
    "        #eccentricity\n",
    "        p.e=.01671123\n",
    "        p.name=\"Earth\"\n",
    "        \n",
    "    #set remaining properties\n",
    "    p.t=0.0\n",
    "    p.x[0]=p.a*(1.0-p.e)\n",
    "    p.x[1]=0.0\n",
    "    \n",
    "    #get equiv circular velocity\n",
    "    v_c=SolarCircularVelocity(p)\n",
    "    \n",
    "    #velocity at perihelion\n",
    "    v_c=v_c*(1+p.e)**.5\n",
    "    \n",
    "    #set velocity\n",
    "    p.v[0]=0.0 #no x velocity at perihelion\n",
    "    p.v[1]=v_e #y velocity at perihelion (counterclockwise)\n",
    "    \n",
    "    #calculate gravitational accelaration form sun\n",
    "    p.a_g=SolarGravitationalAcceleration(p)\n",
    "    \n",
    "    #set timestep\n",
    "    p.dt=calc_dt(p)"
   ]
  },
  {
   "cell_type": "markdown",
   "metadata": {},
   "source": [
    "## Write leapfrog integrator"
   ]
  },
  {
   "cell_type": "code",
   "execution_count": 29,
   "metadata": {},
   "outputs": [],
   "source": [
    "def x_first_step(x_i, v_i, a_i, dt):\n",
    "    #x_1/2=x_0+1/2 v_0 Delta_t +1/4 a_0 Delta t^2\n",
    "    return x_i +.5*v_i*dt+.25*a_i*dt**2"
   ]
  },
  {
   "cell_type": "code",
   "execution_count": 30,
   "metadata": {},
   "outputs": [],
   "source": [
    "def v_full_step(v_i, a_ipoh, dt):\n",
    "    #v_i+1=v_i+a_i+1/2 Delta t\n",
    "    return v_i+a_ipoh*dt"
   ]
  },
  {
   "cell_type": "code",
   "execution_count": 31,
   "metadata": {},
   "outputs": [],
   "source": [
    "def x_full_step(x_ipoh, v_ipl, a_ipoh, dt):\n",
    "    #x_3/2=x_1/2+v_i+1 Delta t\n",
    "    return x_ipoh+v_ipl*dt"
   ]
  },
  {
   "cell_type": "markdown",
   "metadata": {},
   "source": [
    "## Write a function to save the data fil"
   ]
  },
  {
   "cell_type": "code",
   "execution_count": 44,
   "metadata": {},
   "outputs": [],
   "source": [
    "def SaveSolarSystem(p, n_planets, t, dt, istep, ndim):\n",
    "    #loops over the number of planets\n",
    "    for i in range(n_planets):\n",
    "        #define a filename\n",
    "        fname=\"planet.%s.text\" %p[i].name\n",
    "        \n",
    "        if (istep==0):\n",
    "            #create the file on the first timestep\n",
    "            fp=open(fname,\"w\")\n",
    "        else:\n",
    "            #append the file on the subsequent timesteps\n",
    "            fp=open(fname,\"a\")\n",
    "        \n",
    "        #compute the drifted properties of the planet\n",
    "        v_drift=np.zeros(ndim)\n",
    "        \n",
    "        for k in range(ndim):\n",
    "            v_drift[k]=p[i].v[k]+.5*p[i].a_g[k]*p[i].dt\n",
    "            \n",
    "        #write the data to file\n",
    "        s=\"%6d\\t%6.5f\\t%6.5f\\t%6d\\t%6.5f\\t% 6.5f\\t% 6.5f\\t% 6.5f\\t% 6.5f\\t% 6.5f\\t% 6.5f\\t% 6.5f\\n%\" \\\n",
    "            % (istep,t,dt,p[i].istep,p[i].t,p[i].dt,p[i].x[0],p[i].x[1],v_drift[0],v_drift[1], \\\n",
    "               p[i].a_g[0],p[i].a_g[1])\n",
    "        fp.write(s)\n",
    "                                           \n",
    "        #close the file\n",
    "        fp.close()"
   ]
  },
  {
   "cell_type": "markdown",
   "metadata": {},
   "source": [
    "## Write a function to evolve the solar system"
   ]
  },
  {
   "cell_type": "code",
   "execution_count": 45,
   "metadata": {},
   "outputs": [],
   "source": [
    "def EvolveSolarSystem(p,n_planets,t_max):\n",
    "    \n",
    "    #number of spatial dimensions\n",
    "    ndim=2\n",
    "    \n",
    "    #define the first timestep\n",
    "    dt=.5/365.25\n",
    "    \n",
    "    #define the starting time\n",
    "    t=0.0\n",
    "    \n",
    "    #define the starting timestep\n",
    "    istep=0\n",
    "    \n",
    "    #save the initial conditions\n",
    "    SaveSolarSystem(p,n_planets,t,dt,istep,ndim)\n",
    "    \n",
    "    #begin a loop over the global timescale\n",
    "    while(t<t_max):\n",
    "        #check to see if the next step exceeds to max time. If so, smaller step\n",
    "        if(t+dt>t_max):\n",
    "            dt=t_max-t   #limit the step to align with t_max\n",
    "            \n",
    "            #evolve each planet\n",
    "            for i in range(n_planets):\n",
    "                while (p[i].istep==0):\n",
    "                    \n",
    "                    #take the first step according to a verlet scheme\n",
    "                    for k in range(ndim):\n",
    "                        p[i].x[k]=x_first_step(p[i].x[k],p[i].v[k],p[i].a_g[k],p[i].dt)\n",
    "                        \n",
    "                    #update the acceleration\n",
    "                    p[i].a_g=SolarGravitationalAcceleration(p[i])\n",
    "                    \n",
    "                    #update the time by 1/2dt\n",
    "                    p[i].t+=.5*p[i].dt\n",
    "                    \n",
    "                    #update the timestep\n",
    "                    p[i].dt=colc_dt(p[i])\n",
    "                    \n",
    "                #continue with a normal step\n",
    "                \n",
    "                #limit to align with the global timestep\n",
    "                if (p[i].t +p[i].dt>t+dt):\n",
    "                    p[i].dt=t+dt-p[i].t\n",
    "                    \n",
    "                #evolve the velocity\n",
    "                for k in range(ndim):\n",
    "                    p[i].c[k]=v_full_step(p[i].v[k],p[i].a_g[k],p[i].dt)\n",
    "                    \n",
    "                #evolve position\n",
    "                for k in range(ndim):\n",
    "                    p[i].x[k]=f_full_step(p[i].x[k],p[i].a_g[k],p[i].dt)\n",
    "                    \n",
    "                #update the acceleration\n",
    "                p[i].a_g=SolarGravitationalAcceleration(p[i])\n",
    "                \n",
    "                #update by dt\n",
    "                p[i].t+=p[i].dt\n",
    "                \n",
    "                #compute the new timestep\n",
    "                p[i].t+=p[i].dt\n",
    "                \n",
    "                #compute the enw timestep\n",
    "                p[i].dt=calc_dt(p[i])\n",
    "                \n",
    "                #update the planet's timestep\n",
    "                p[i].istep+=1\n",
    "                \n",
    "            #now update the global system time\n",
    "            t+=dt\n",
    "            \n",
    "            #update the global system time\n",
    "            t+=dt\n",
    "            \n",
    "            #update the global step number\n",
    "            istep+=1\n",
    "            \n",
    "            #output the current state\n",
    "            SaveSolarSystem(p,n_planets,t,dt,istep,ndim)\n",
    "        #print the final steps and time\n",
    "        print(\"Time t=\",t)\n",
    "        print(\"Maximum t =\", t_max)\n",
    "        print(\"Maximum number of steps =\", istep)\n",
    "        #end of evolution"
   ]
  },
  {
   "cell_type": "markdown",
   "metadata": {},
   "source": [
    "## Create a routine to read the data"
   ]
  },
  {
   "cell_type": "code",
   "execution_count": 46,
   "metadata": {},
   "outputs": [],
   "source": [
    "def read_twelve_arrays(fname):\n",
    "    fp=open(fname,'r')\n",
    "    fl=fp.readlines()\n",
    "    n=len(fl)\n",
    "    a=np.zeros(n)\n",
    "    b=np.zeros(n)\n",
    "    c=np.zeros(n)\n",
    "    d=np.zeros(n)\n",
    "    f=np.zeros(n)\n",
    "    g=np.zeros(n)\n",
    "    h=np.zeros(n)\n",
    "    j=np.zeros(n)\n",
    "    k=np.zeros(n)\n",
    "    l=np.zeros(n)\n",
    "    m=np.zeros(n)\n",
    "    p=np.zeros(n)\n",
    "    for i in range(n):\n",
    "        a[i]=float(fl[i].split()[0])\n",
    "        b[i]=float(fl[i].split()[1])\n",
    "        c[i]=float(fl[i].split()[2])\n",
    "        d[i]=float(fl[i].split()[3])\n",
    "        f[i]=float(fl[i].split()[4])\n",
    "        g[i]=float(fl[i].split()[5])\n",
    "        h[i]=float(fl[i].split()[6])\n",
    "        j[i]=float(fl[i].split()[7])\n",
    "        k[i]=float(fl[i].split()[8])\n",
    "        l[i]=float(fl[i].split()[9])\n",
    "        m[i]=float(fl[i].split()[10])\n",
    "        p[i]=float(fl[i].split()[11])\n",
    "    return a,b,c,d,f,g,h,j,k,l,m,n,p"
   ]
  },
  {
   "cell_type": "markdown",
   "metadata": {},
   "source": [
    "## Perform the integration of the solar system"
   ]
  },
  {
   "cell_type": "code",
   "execution_count": 47,
   "metadata": {},
   "outputs": [
    {
     "name": "stderr",
     "output_type": "stream",
     "text": [
      "/Library/Frameworks/Python.framework/Versions/3.6/lib/python3.6/site-packages/ipykernel_launcher.py:9: RuntimeWarning: divide by zero encountered in double_scalars\n",
      "  if __name__ == '__main__':\n"
     ]
    },
    {
     "ename": "ValueError",
     "evalue": "incomplete format",
     "output_type": "error",
     "traceback": [
      "\u001b[0;31m---------------------------------------------------------------------------\u001b[0m",
      "\u001b[0;31mValueError\u001b[0m                                Traceback (most recent call last)",
      "\u001b[0;32m<ipython-input-47-d85c4822e5f8>\u001b[0m in \u001b[0;36m<module>\u001b[0;34m()\u001b[0m\n\u001b[1;32m     20\u001b[0m \u001b[0;34m\u001b[0m\u001b[0m\n\u001b[1;32m     21\u001b[0m \u001b[0;31m#evolve the solar system\u001b[0m\u001b[0;34m\u001b[0m\u001b[0;34m\u001b[0m\u001b[0m\n\u001b[0;32m---> 22\u001b[0;31m \u001b[0mEvolveSolarSystem\u001b[0m\u001b[0;34m(\u001b[0m\u001b[0mp\u001b[0m\u001b[0;34m,\u001b[0m\u001b[0mn_planets\u001b[0m\u001b[0;34m,\u001b[0m\u001b[0mt_max\u001b[0m\u001b[0;34m)\u001b[0m\u001b[0;34m\u001b[0m\u001b[0m\n\u001b[0m",
      "\u001b[0;32m<ipython-input-45-43ce764de98e>\u001b[0m in \u001b[0;36mEvolveSolarSystem\u001b[0;34m(p, n_planets, t_max)\u001b[0m\n\u001b[1;32m     14\u001b[0m \u001b[0;34m\u001b[0m\u001b[0m\n\u001b[1;32m     15\u001b[0m     \u001b[0;31m#save the initial conditions\u001b[0m\u001b[0;34m\u001b[0m\u001b[0;34m\u001b[0m\u001b[0m\n\u001b[0;32m---> 16\u001b[0;31m     \u001b[0mSaveSolarSystem\u001b[0m\u001b[0;34m(\u001b[0m\u001b[0mp\u001b[0m\u001b[0;34m,\u001b[0m\u001b[0mn_planets\u001b[0m\u001b[0;34m,\u001b[0m\u001b[0mt\u001b[0m\u001b[0;34m,\u001b[0m\u001b[0mdt\u001b[0m\u001b[0;34m,\u001b[0m\u001b[0mistep\u001b[0m\u001b[0;34m,\u001b[0m\u001b[0mndim\u001b[0m\u001b[0;34m)\u001b[0m\u001b[0;34m\u001b[0m\u001b[0m\n\u001b[0m\u001b[1;32m     17\u001b[0m \u001b[0;34m\u001b[0m\u001b[0m\n\u001b[1;32m     18\u001b[0m     \u001b[0;31m#begin a loop over the global timescale\u001b[0m\u001b[0;34m\u001b[0m\u001b[0;34m\u001b[0m\u001b[0m\n",
      "\u001b[0;32m<ipython-input-44-2d8316012586>\u001b[0m in \u001b[0;36mSaveSolarSystem\u001b[0;34m(p, n_planets, t, dt, istep, ndim)\u001b[0m\n\u001b[1;32m     19\u001b[0m \u001b[0;34m\u001b[0m\u001b[0m\n\u001b[1;32m     20\u001b[0m         \u001b[0;31m#write the data to file\u001b[0m\u001b[0;34m\u001b[0m\u001b[0;34m\u001b[0m\u001b[0m\n\u001b[0;32m---> 21\u001b[0;31m         \u001b[0ms\u001b[0m\u001b[0;34m=\u001b[0m\u001b[0;34m\"%6d\\t%6.5f\\t%6.5f\\t%6d\\t%6.5f\\t% 6.5f\\t% 6.5f\\t% 6.5f\\t% 6.5f\\t% 6.5f\\t% 6.5f\\t% 6.5f\\n%\"\u001b[0m             \u001b[0;34m%\u001b[0m \u001b[0;34m(\u001b[0m\u001b[0mistep\u001b[0m\u001b[0;34m,\u001b[0m\u001b[0mt\u001b[0m\u001b[0;34m,\u001b[0m\u001b[0mdt\u001b[0m\u001b[0;34m,\u001b[0m\u001b[0mp\u001b[0m\u001b[0;34m[\u001b[0m\u001b[0mi\u001b[0m\u001b[0;34m]\u001b[0m\u001b[0;34m.\u001b[0m\u001b[0mistep\u001b[0m\u001b[0;34m,\u001b[0m\u001b[0mp\u001b[0m\u001b[0;34m[\u001b[0m\u001b[0mi\u001b[0m\u001b[0;34m]\u001b[0m\u001b[0;34m.\u001b[0m\u001b[0mt\u001b[0m\u001b[0;34m,\u001b[0m\u001b[0mp\u001b[0m\u001b[0;34m[\u001b[0m\u001b[0mi\u001b[0m\u001b[0;34m]\u001b[0m\u001b[0;34m.\u001b[0m\u001b[0mdt\u001b[0m\u001b[0;34m,\u001b[0m\u001b[0mp\u001b[0m\u001b[0;34m[\u001b[0m\u001b[0mi\u001b[0m\u001b[0;34m]\u001b[0m\u001b[0;34m.\u001b[0m\u001b[0mx\u001b[0m\u001b[0;34m[\u001b[0m\u001b[0;36m0\u001b[0m\u001b[0;34m]\u001b[0m\u001b[0;34m,\u001b[0m\u001b[0mp\u001b[0m\u001b[0;34m[\u001b[0m\u001b[0mi\u001b[0m\u001b[0;34m]\u001b[0m\u001b[0;34m.\u001b[0m\u001b[0mx\u001b[0m\u001b[0;34m[\u001b[0m\u001b[0;36m1\u001b[0m\u001b[0;34m]\u001b[0m\u001b[0;34m,\u001b[0m\u001b[0mv_drift\u001b[0m\u001b[0;34m[\u001b[0m\u001b[0;36m0\u001b[0m\u001b[0;34m]\u001b[0m\u001b[0;34m,\u001b[0m\u001b[0mv_drift\u001b[0m\u001b[0;34m[\u001b[0m\u001b[0;36m1\u001b[0m\u001b[0;34m]\u001b[0m\u001b[0;34m,\u001b[0m                \u001b[0mp\u001b[0m\u001b[0;34m[\u001b[0m\u001b[0mi\u001b[0m\u001b[0;34m]\u001b[0m\u001b[0;34m.\u001b[0m\u001b[0ma_g\u001b[0m\u001b[0;34m[\u001b[0m\u001b[0;36m0\u001b[0m\u001b[0;34m]\u001b[0m\u001b[0;34m,\u001b[0m\u001b[0mp\u001b[0m\u001b[0;34m[\u001b[0m\u001b[0mi\u001b[0m\u001b[0;34m]\u001b[0m\u001b[0;34m.\u001b[0m\u001b[0ma_g\u001b[0m\u001b[0;34m[\u001b[0m\u001b[0;36m1\u001b[0m\u001b[0;34m]\u001b[0m\u001b[0;34m)\u001b[0m\u001b[0;34m\u001b[0m\u001b[0m\n\u001b[0m\u001b[1;32m     22\u001b[0m         \u001b[0mfp\u001b[0m\u001b[0;34m.\u001b[0m\u001b[0mwrite\u001b[0m\u001b[0;34m(\u001b[0m\u001b[0ms\u001b[0m\u001b[0;34m)\u001b[0m\u001b[0;34m\u001b[0m\u001b[0m\n\u001b[1;32m     23\u001b[0m \u001b[0;34m\u001b[0m\u001b[0m\n",
      "\u001b[0;31mValueError\u001b[0m: incomplete format"
     ]
    }
   ],
   "source": [
    "#set the number of planets\n",
    "n_planets=3\n",
    "\n",
    "#set the maximum time of the simulation\n",
    "t_max=2.0\n",
    "\n",
    "#create empty list of planets\n",
    "p=[]\n",
    "\n",
    "#set the planets\n",
    "for i in range(n_planets):\n",
    "    \n",
    "    #create an empty planet\n",
    "    ptmp=planet(0.0,0.0)\n",
    "    \n",
    "    #set the planet properties\n",
    "    SetPlanet(ptmp,i)\n",
    "    #remember the planet\n",
    "    p.append(ptmp)\n",
    "    \n",
    "#evolve the solar system\n",
    "EvolveSolarSystem(p,n_planets,t_max)"
   ]
  },
  {
   "cell_type": "code",
   "execution_count": null,
   "metadata": {},
   "outputs": [],
   "source": []
  }
 ],
 "metadata": {
  "kernelspec": {
   "display_name": "Python 3",
   "language": "python",
   "name": "python3"
  },
  "language_info": {
   "codemirror_mode": {
    "name": "ipython",
    "version": 3
   },
   "file_extension": ".py",
   "mimetype": "text/x-python",
   "name": "python",
   "nbconvert_exporter": "python",
   "pygments_lexer": "ipython3",
   "version": "3.6.5"
  }
 },
 "nbformat": 4,
 "nbformat_minor": 2
}
